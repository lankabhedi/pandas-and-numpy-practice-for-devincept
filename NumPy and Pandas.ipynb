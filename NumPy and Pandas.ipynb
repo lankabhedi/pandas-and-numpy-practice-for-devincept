{
  "cells":[
    {
      "cell_type":"markdown",
      "source":[
        "# NumPy and Pandas Practice\n",
        "## by Samnit Mehandiratta"
      ],
      "attachments":{
        
      },
      "metadata":{
        
      }
    },
    {
      "cell_type":"markdown",
      "source":[
        "### NumPy"
      ],
      "attachments":{
        
      },
      "metadata":{
        
      }
    },
    {
      "cell_type":"code",
      "source":[
        "import numpy as np"
      ],
      "execution_count":0,
      "outputs":[
        
      ],
      "metadata":{
        
      }
    },
    {
      "cell_type":"code",
      "source":[
        "array1 = np.array([1,2,3])\n",
        "print(array1)\n",
        "print(array1.dtype)\n",
        "\n",
        "print(array1[-1::-1])"
      ],
      "execution_count":0,
      "outputs":[
        {
          "name":"stdout",
          "text":[
            "[1 2 3]\n",
            "int64\n",
            "[3 2 1]\n"
          ],
          "output_type":"stream"
        }
      ],
      "metadata":{
        
      }
    },
    {
      "cell_type":"code",
      "source":[
        "a = np.arange(12).reshape(3, 4)\n",
        "print(a)\n",
        "\n",
        "rows_on = np.array([True, False, True])\n",
        "a[rows_on, :]"
      ],
      "execution_count":0,
      "outputs":[
        {
          "name":"stdout",
          "text":[
            "[[ 0  1  2  3]\n",
            " [ 4  5  6  7]\n",
            " [ 8  9 10 11]]\n"
          ],
          "output_type":"stream"
        },
        {
          "data":{
            "text\/plain":[
              "array([[ 0,  1,  2,  3],\n",
              "       [ 8,  9, 10, 11]])"
            ]
          },
          "metadata":{
            
          },
          "output_type":"display_data"
        }
      ],
      "metadata":{
        
      }
    },
    {
      "cell_type":"code",
      "source":[
        "np.ones((12,12))"
      ],
      "execution_count":0,
      "outputs":[
        {
          "data":{
            "text\/plain":[
              "array([[1., 1., 1., 1., 1., 1., 1., 1., 1., 1., 1., 1.],\n",
              "       [1., 1., 1., 1., 1., 1., 1., 1., 1., 1., 1., 1.],\n",
              "       [1., 1., 1., 1., 1., 1., 1., 1., 1., 1., 1., 1.],\n",
              "       [1., 1., 1., 1., 1., 1., 1., 1., 1., 1., 1., 1.],\n",
              "       [1., 1., 1., 1., 1., 1., 1., 1., 1., 1., 1., 1.],\n",
              "       [1., 1., 1., 1., 1., 1., 1., 1., 1., 1., 1., 1.],\n",
              "       [1., 1., 1., 1., 1., 1., 1., 1., 1., 1., 1., 1.],\n",
              "       [1., 1., 1., 1., 1., 1., 1., 1., 1., 1., 1., 1.],\n",
              "       [1., 1., 1., 1., 1., 1., 1., 1., 1., 1., 1., 1.],\n",
              "       [1., 1., 1., 1., 1., 1., 1., 1., 1., 1., 1., 1.],\n",
              "       [1., 1., 1., 1., 1., 1., 1., 1., 1., 1., 1., 1.],\n",
              "       [1., 1., 1., 1., 1., 1., 1., 1., 1., 1., 1., 1.]])"
            ]
          },
          "metadata":{
            
          },
          "output_type":"display_data"
        }
      ],
      "metadata":{
        
      }
    },
    {
      "cell_type":"code",
      "source":[
        "np.zeros((12,12))"
      ],
      "execution_count":0,
      "outputs":[
        {
          "data":{
            "text\/plain":[
              "array([[0., 0., 0., 0., 0., 0., 0., 0., 0., 0., 0., 0.],\n",
              "       [0., 0., 0., 0., 0., 0., 0., 0., 0., 0., 0., 0.],\n",
              "       [0., 0., 0., 0., 0., 0., 0., 0., 0., 0., 0., 0.],\n",
              "       [0., 0., 0., 0., 0., 0., 0., 0., 0., 0., 0., 0.],\n",
              "       [0., 0., 0., 0., 0., 0., 0., 0., 0., 0., 0., 0.],\n",
              "       [0., 0., 0., 0., 0., 0., 0., 0., 0., 0., 0., 0.],\n",
              "       [0., 0., 0., 0., 0., 0., 0., 0., 0., 0., 0., 0.],\n",
              "       [0., 0., 0., 0., 0., 0., 0., 0., 0., 0., 0., 0.],\n",
              "       [0., 0., 0., 0., 0., 0., 0., 0., 0., 0., 0., 0.],\n",
              "       [0., 0., 0., 0., 0., 0., 0., 0., 0., 0., 0., 0.],\n",
              "       [0., 0., 0., 0., 0., 0., 0., 0., 0., 0., 0., 0.],\n",
              "       [0., 0., 0., 0., 0., 0., 0., 0., 0., 0., 0., 0.]])"
            ]
          },
          "metadata":{
            
          },
          "output_type":"display_data"
        }
      ],
      "metadata":{
        
      }
    },
    {
      "cell_type":"code",
      "source":[
        "np.full((12,12),12)"
      ],
      "execution_count":0,
      "outputs":[
        {
          "data":{
            "text\/plain":[
              "array([[12, 12, 12, 12, 12, 12, 12, 12, 12, 12, 12, 12],\n",
              "       [12, 12, 12, 12, 12, 12, 12, 12, 12, 12, 12, 12],\n",
              "       [12, 12, 12, 12, 12, 12, 12, 12, 12, 12, 12, 12],\n",
              "       [12, 12, 12, 12, 12, 12, 12, 12, 12, 12, 12, 12],\n",
              "       [12, 12, 12, 12, 12, 12, 12, 12, 12, 12, 12, 12],\n",
              "       [12, 12, 12, 12, 12, 12, 12, 12, 12, 12, 12, 12],\n",
              "       [12, 12, 12, 12, 12, 12, 12, 12, 12, 12, 12, 12],\n",
              "       [12, 12, 12, 12, 12, 12, 12, 12, 12, 12, 12, 12],\n",
              "       [12, 12, 12, 12, 12, 12, 12, 12, 12, 12, 12, 12],\n",
              "       [12, 12, 12, 12, 12, 12, 12, 12, 12, 12, 12, 12],\n",
              "       [12, 12, 12, 12, 12, 12, 12, 12, 12, 12, 12, 12],\n",
              "       [12, 12, 12, 12, 12, 12, 12, 12, 12, 12, 12, 12]])"
            ]
          },
          "metadata":{
            
          },
          "output_type":"display_data"
        }
      ],
      "metadata":{
        
      }
    },
    {
      "cell_type":"code",
      "source":[
        "np.arange(12,121,12) # [initial,final) the final number is not included"
      ],
      "execution_count":0,
      "outputs":[
        {
          "data":{
            "text\/plain":[
              "array([ 12,  24,  36,  48,  60,  72,  84,  96, 108, 120])"
            ]
          },
          "metadata":{
            
          },
          "output_type":"display_data"
        }
      ],
      "metadata":{
        
      }
    },
    {
      "cell_type":"code",
      "source":[
        "np.linspace(1,12,12)"
      ],
      "execution_count":0,
      "outputs":[
        {
          "data":{
            "text\/plain":[
              "array([ 1.,  2.,  3.,  4.,  5.,  6.,  7.,  8.,  9., 10., 11., 12.])"
            ]
          },
          "metadata":{
            
          },
          "output_type":"display_data"
        }
      ],
      "metadata":{
        
      }
    },
    {
      "cell_type":"code",
      "source":[
        "np.random.rand(1,3)"
      ],
      "execution_count":0,
      "outputs":[
        {
          "data":{
            "text\/plain":[
              "array([[0.74158035, 0.43925371, 0.91435111]])"
            ]
          },
          "metadata":{
            
          },
          "output_type":"display_data"
        }
      ],
      "metadata":{
        
      }
    },
    {
      "cell_type":"code",
      "source":[
        "np.empty((2,3))"
      ],
      "execution_count":0,
      "outputs":[
        {
          "data":{
            "text\/plain":[
              "array([[4.66769949e-310, 0.00000000e+000, 0.00000000e+000],\n",
              "       [0.00000000e+000, 0.00000000e+000, 0.00000000e+000]])"
            ]
          },
          "metadata":{
            
          },
          "output_type":"display_data"
        }
      ],
      "metadata":{
        
      }
    },
    {
      "cell_type":"code",
      "source":[
        "coeffs  = np.array([[2, 6], [5, 3]])\n",
        "depvars = np.array([6, -9])\n",
        "solution = np.linalg.solve(coeffs, depvars)\n",
        "solution\n"
      ],
      "execution_count":0,
      "outputs":[
        {
          "data":{
            "text\/plain":[
              "array([-3.,  2.])"
            ]
          },
          "metadata":{
            
          },
          "output_type":"display_data"
        }
      ],
      "metadata":{
        
      }
    },
    {
      "cell_type":"markdown",
      "source":[
        "### Pandas"
      ],
      "attachments":{
        
      },
      "metadata":{
        
      }
    },
    {
      "cell_type":"code",
      "source":[
        "import pandas as pd"
      ],
      "execution_count":0,
      "outputs":[
        
      ],
      "metadata":{
        
      }
    },
    {
      "cell_type":"code",
      "source":[
        "people_dict = { \"weight\": pd.Series([68, 83, 112],\n",
        "                index=[\"alice\", \"bob\", \"charles\"]),\n",
        "               \"birthyear\": pd.Series([1984, 1985, 1992], index=[\"bob\", \"alice\", \"charles\"], name=\"year\"),\n",
        "\"children\": pd.Series([0, 3], index=[\"charles\", \"bob\"]),\n",
        "\"hobby\": pd.Series([\"Biking\", \"Dancing\"], index=[\"alice\", \"bob\"]),}\n",
        "\n",
        "people = pd.DataFrame(people_dict)\n",
        "people"
      ],
      "execution_count":0,
      "outputs":[
        {
          "data":{
            "text\/html":[
              "<div>\n",
              "<style scoped>\n",
              "    .dataframe tbody tr th:only-of-type {\n",
              "        vertical-align: middle;\n",
              "    }\n",
              "\n",
              "    .dataframe tbody tr th {\n",
              "        vertical-align: top;\n",
              "    }\n",
              "\n",
              "    .dataframe thead th {\n",
              "        text-align: right;\n",
              "    }\n",
              "<\/style>\n",
              "<table border=\"1\" class=\"dataframe\">\n",
              "  <thead>\n",
              "    <tr style=\"text-align: right;\">\n",
              "      <th><\/th>\n",
              "      <th>weight<\/th>\n",
              "      <th>birthyear<\/th>\n",
              "      <th>children<\/th>\n",
              "      <th>hobby<\/th>\n",
              "    <\/tr>\n",
              "  <\/thead>\n",
              "  <tbody>\n",
              "    <tr>\n",
              "      <th>alice<\/th>\n",
              "      <td>68<\/td>\n",
              "      <td>1985<\/td>\n",
              "      <td>NaN<\/td>\n",
              "      <td>Biking<\/td>\n",
              "    <\/tr>\n",
              "    <tr>\n",
              "      <th>bob<\/th>\n",
              "      <td>83<\/td>\n",
              "      <td>1984<\/td>\n",
              "      <td>3.0<\/td>\n",
              "      <td>Dancing<\/td>\n",
              "    <\/tr>\n",
              "    <tr>\n",
              "      <th>charles<\/th>\n",
              "      <td>112<\/td>\n",
              "      <td>1992<\/td>\n",
              "      <td>0.0<\/td>\n",
              "      <td>NaN<\/td>\n",
              "    <\/tr>\n",
              "  <\/tbody>\n",
              "<\/table>\n",
              "<\/div>"
            ]
          },
          "metadata":{
            
          },
          "output_type":"display_data"
        }
      ],
      "metadata":{
        
      }
    },
    {
      "cell_type":"code",
      "source":[
        "people[people[\"birthyear\"] < 1990]"
      ],
      "execution_count":0,
      "outputs":[
        {
          "data":{
            "text\/html":[
              "<div>\n",
              "<style scoped>\n",
              "    .dataframe tbody tr th:only-of-type {\n",
              "        vertical-align: middle;\n",
              "    }\n",
              "\n",
              "    .dataframe tbody tr th {\n",
              "        vertical-align: top;\n",
              "    }\n",
              "\n",
              "    .dataframe thead th {\n",
              "        text-align: right;\n",
              "    }\n",
              "<\/style>\n",
              "<table border=\"1\" class=\"dataframe\">\n",
              "  <thead>\n",
              "    <tr style=\"text-align: right;\">\n",
              "      <th><\/th>\n",
              "      <th>weight<\/th>\n",
              "      <th>birthyear<\/th>\n",
              "      <th>children<\/th>\n",
              "      <th>hobby<\/th>\n",
              "    <\/tr>\n",
              "  <\/thead>\n",
              "  <tbody>\n",
              "    <tr>\n",
              "      <th>alice<\/th>\n",
              "      <td>68<\/td>\n",
              "      <td>1985<\/td>\n",
              "      <td>NaN<\/td>\n",
              "      <td>Biking<\/td>\n",
              "    <\/tr>\n",
              "    <tr>\n",
              "      <th>bob<\/th>\n",
              "      <td>83<\/td>\n",
              "      <td>1984<\/td>\n",
              "      <td>3.0<\/td>\n",
              "      <td>Dancing<\/td>\n",
              "    <\/tr>\n",
              "  <\/tbody>\n",
              "<\/table>\n",
              "<\/div>"
            ]
          },
          "metadata":{
            
          },
          "output_type":"display_data"
        }
      ],
      "metadata":{
        
      }
    },
    {
      "cell_type":"code",
      "source":[
        "iris = pd.read_csv(\"IRIS.csv\")"
      ],
      "execution_count":0,
      "outputs":[
        
      ],
      "metadata":{
        
      }
    },
    {
      "cell_type":"code",
      "source":[
        "iris"
      ],
      "execution_count":0,
      "outputs":[
        {
          "data":{
            "text\/html":[
              "<div>\n",
              "<style scoped>\n",
              "    .dataframe tbody tr th:only-of-type {\n",
              "        vertical-align: middle;\n",
              "    }\n",
              "\n",
              "    .dataframe tbody tr th {\n",
              "        vertical-align: top;\n",
              "    }\n",
              "\n",
              "    .dataframe thead th {\n",
              "        text-align: right;\n",
              "    }\n",
              "<\/style>\n",
              "<table border=\"1\" class=\"dataframe\">\n",
              "  <thead>\n",
              "    <tr style=\"text-align: right;\">\n",
              "      <th><\/th>\n",
              "      <th>sepal_length<\/th>\n",
              "      <th>sepal_width<\/th>\n",
              "      <th>petal_length<\/th>\n",
              "      <th>petal_width<\/th>\n",
              "      <th>species<\/th>\n",
              "    <\/tr>\n",
              "  <\/thead>\n",
              "  <tbody>\n",
              "    <tr>\n",
              "      <th>0<\/th>\n",
              "      <td>5.1<\/td>\n",
              "      <td>3.5<\/td>\n",
              "      <td>1.4<\/td>\n",
              "      <td>0.2<\/td>\n",
              "      <td>Iris-setosa<\/td>\n",
              "    <\/tr>\n",
              "    <tr>\n",
              "      <th>1<\/th>\n",
              "      <td>4.9<\/td>\n",
              "      <td>3.0<\/td>\n",
              "      <td>1.4<\/td>\n",
              "      <td>0.2<\/td>\n",
              "      <td>Iris-setosa<\/td>\n",
              "    <\/tr>\n",
              "    <tr>\n",
              "      <th>2<\/th>\n",
              "      <td>4.7<\/td>\n",
              "      <td>3.2<\/td>\n",
              "      <td>1.3<\/td>\n",
              "      <td>0.2<\/td>\n",
              "      <td>Iris-setosa<\/td>\n",
              "    <\/tr>\n",
              "    <tr>\n",
              "      <th>3<\/th>\n",
              "      <td>4.6<\/td>\n",
              "      <td>3.1<\/td>\n",
              "      <td>1.5<\/td>\n",
              "      <td>0.2<\/td>\n",
              "      <td>Iris-setosa<\/td>\n",
              "    <\/tr>\n",
              "    <tr>\n",
              "      <th>4<\/th>\n",
              "      <td>5.0<\/td>\n",
              "      <td>3.6<\/td>\n",
              "      <td>1.4<\/td>\n",
              "      <td>0.2<\/td>\n",
              "      <td>Iris-setosa<\/td>\n",
              "    <\/tr>\n",
              "    <tr>\n",
              "      <th>...<\/th>\n",
              "      <td>...<\/td>\n",
              "      <td>...<\/td>\n",
              "      <td>...<\/td>\n",
              "      <td>...<\/td>\n",
              "      <td>...<\/td>\n",
              "    <\/tr>\n",
              "    <tr>\n",
              "      <th>145<\/th>\n",
              "      <td>6.7<\/td>\n",
              "      <td>3.0<\/td>\n",
              "      <td>5.2<\/td>\n",
              "      <td>2.3<\/td>\n",
              "      <td>Iris-virginica<\/td>\n",
              "    <\/tr>\n",
              "    <tr>\n",
              "      <th>146<\/th>\n",
              "      <td>6.3<\/td>\n",
              "      <td>2.5<\/td>\n",
              "      <td>5.0<\/td>\n",
              "      <td>1.9<\/td>\n",
              "      <td>Iris-virginica<\/td>\n",
              "    <\/tr>\n",
              "    <tr>\n",
              "      <th>147<\/th>\n",
              "      <td>6.5<\/td>\n",
              "      <td>3.0<\/td>\n",
              "      <td>5.2<\/td>\n",
              "      <td>2.0<\/td>\n",
              "      <td>Iris-virginica<\/td>\n",
              "    <\/tr>\n",
              "    <tr>\n",
              "      <th>148<\/th>\n",
              "      <td>6.2<\/td>\n",
              "      <td>3.4<\/td>\n",
              "      <td>5.4<\/td>\n",
              "      <td>2.3<\/td>\n",
              "      <td>Iris-virginica<\/td>\n",
              "    <\/tr>\n",
              "    <tr>\n",
              "      <th>149<\/th>\n",
              "      <td>5.9<\/td>\n",
              "      <td>3.0<\/td>\n",
              "      <td>5.1<\/td>\n",
              "      <td>1.8<\/td>\n",
              "      <td>Iris-virginica<\/td>\n",
              "    <\/tr>\n",
              "  <\/tbody>\n",
              "<\/table>\n",
              "<p>150 rows × 5 columns<\/p>\n",
              "<\/div>"
            ]
          },
          "metadata":{
            
          },
          "output_type":"display_data"
        }
      ],
      "metadata":{
        
      }
    },
    {
      "cell_type":"code",
      "source":[
        "iris.head()"
      ],
      "execution_count":0,
      "outputs":[
        {
          "data":{
            "text\/html":[
              "<div>\n",
              "<style scoped>\n",
              "    .dataframe tbody tr th:only-of-type {\n",
              "        vertical-align: middle;\n",
              "    }\n",
              "\n",
              "    .dataframe tbody tr th {\n",
              "        vertical-align: top;\n",
              "    }\n",
              "\n",
              "    .dataframe thead th {\n",
              "        text-align: right;\n",
              "    }\n",
              "<\/style>\n",
              "<table border=\"1\" class=\"dataframe\">\n",
              "  <thead>\n",
              "    <tr style=\"text-align: right;\">\n",
              "      <th><\/th>\n",
              "      <th>sepal_length<\/th>\n",
              "      <th>sepal_width<\/th>\n",
              "      <th>petal_length<\/th>\n",
              "      <th>petal_width<\/th>\n",
              "      <th>species<\/th>\n",
              "    <\/tr>\n",
              "  <\/thead>\n",
              "  <tbody>\n",
              "    <tr>\n",
              "      <th>0<\/th>\n",
              "      <td>5.1<\/td>\n",
              "      <td>3.5<\/td>\n",
              "      <td>1.4<\/td>\n",
              "      <td>0.2<\/td>\n",
              "      <td>Iris-setosa<\/td>\n",
              "    <\/tr>\n",
              "    <tr>\n",
              "      <th>1<\/th>\n",
              "      <td>4.9<\/td>\n",
              "      <td>3.0<\/td>\n",
              "      <td>1.4<\/td>\n",
              "      <td>0.2<\/td>\n",
              "      <td>Iris-setosa<\/td>\n",
              "    <\/tr>\n",
              "    <tr>\n",
              "      <th>2<\/th>\n",
              "      <td>4.7<\/td>\n",
              "      <td>3.2<\/td>\n",
              "      <td>1.3<\/td>\n",
              "      <td>0.2<\/td>\n",
              "      <td>Iris-setosa<\/td>\n",
              "    <\/tr>\n",
              "    <tr>\n",
              "      <th>3<\/th>\n",
              "      <td>4.6<\/td>\n",
              "      <td>3.1<\/td>\n",
              "      <td>1.5<\/td>\n",
              "      <td>0.2<\/td>\n",
              "      <td>Iris-setosa<\/td>\n",
              "    <\/tr>\n",
              "    <tr>\n",
              "      <th>4<\/th>\n",
              "      <td>5.0<\/td>\n",
              "      <td>3.6<\/td>\n",
              "      <td>1.4<\/td>\n",
              "      <td>0.2<\/td>\n",
              "      <td>Iris-setosa<\/td>\n",
              "    <\/tr>\n",
              "  <\/tbody>\n",
              "<\/table>\n",
              "<\/div>"
            ]
          },
          "metadata":{
            
          },
          "output_type":"display_data"
        }
      ],
      "metadata":{
        
      }
    },
    {
      "cell_type":"code",
      "source":[
        "iris.tail()"
      ],
      "execution_count":0,
      "outputs":[
        {
          "data":{
            "text\/html":[
              "<div>\n",
              "<style scoped>\n",
              "    .dataframe tbody tr th:only-of-type {\n",
              "        vertical-align: middle;\n",
              "    }\n",
              "\n",
              "    .dataframe tbody tr th {\n",
              "        vertical-align: top;\n",
              "    }\n",
              "\n",
              "    .dataframe thead th {\n",
              "        text-align: right;\n",
              "    }\n",
              "<\/style>\n",
              "<table border=\"1\" class=\"dataframe\">\n",
              "  <thead>\n",
              "    <tr style=\"text-align: right;\">\n",
              "      <th><\/th>\n",
              "      <th>sepal_length<\/th>\n",
              "      <th>sepal_width<\/th>\n",
              "      <th>petal_length<\/th>\n",
              "      <th>petal_width<\/th>\n",
              "      <th>species<\/th>\n",
              "    <\/tr>\n",
              "  <\/thead>\n",
              "  <tbody>\n",
              "    <tr>\n",
              "      <th>145<\/th>\n",
              "      <td>6.7<\/td>\n",
              "      <td>3.0<\/td>\n",
              "      <td>5.2<\/td>\n",
              "      <td>2.3<\/td>\n",
              "      <td>Iris-virginica<\/td>\n",
              "    <\/tr>\n",
              "    <tr>\n",
              "      <th>146<\/th>\n",
              "      <td>6.3<\/td>\n",
              "      <td>2.5<\/td>\n",
              "      <td>5.0<\/td>\n",
              "      <td>1.9<\/td>\n",
              "      <td>Iris-virginica<\/td>\n",
              "    <\/tr>\n",
              "    <tr>\n",
              "      <th>147<\/th>\n",
              "      <td>6.5<\/td>\n",
              "      <td>3.0<\/td>\n",
              "      <td>5.2<\/td>\n",
              "      <td>2.0<\/td>\n",
              "      <td>Iris-virginica<\/td>\n",
              "    <\/tr>\n",
              "    <tr>\n",
              "      <th>148<\/th>\n",
              "      <td>6.2<\/td>\n",
              "      <td>3.4<\/td>\n",
              "      <td>5.4<\/td>\n",
              "      <td>2.3<\/td>\n",
              "      <td>Iris-virginica<\/td>\n",
              "    <\/tr>\n",
              "    <tr>\n",
              "      <th>149<\/th>\n",
              "      <td>5.9<\/td>\n",
              "      <td>3.0<\/td>\n",
              "      <td>5.1<\/td>\n",
              "      <td>1.8<\/td>\n",
              "      <td>Iris-virginica<\/td>\n",
              "    <\/tr>\n",
              "  <\/tbody>\n",
              "<\/table>\n",
              "<\/div>"
            ]
          },
          "metadata":{
            
          },
          "output_type":"display_data"
        }
      ],
      "metadata":{
        
      }
    },
    {
      "cell_type":"code",
      "source":[
        "iris.info()"
      ],
      "execution_count":0,
      "outputs":[
        {
          "name":"stdout",
          "text":[
            "<class 'pandas.core.frame.DataFrame'>\n",
            "RangeIndex: 150 entries, 0 to 149\n",
            "Data columns (total 5 columns):\n",
            " #   Column        Non-Null Count  Dtype  \n",
            "---  ------        --------------  -----  \n",
            " 0   sepal_length  150 non-null    float64\n",
            " 1   sepal_width   150 non-null    float64\n",
            " 2   petal_length  150 non-null    float64\n",
            " 3   petal_width   150 non-null    float64\n",
            " 4   species       150 non-null    object \n",
            "dtypes: float64(4), object(1)\n",
            "memory usage: 6.0+ KB\n"
          ],
          "output_type":"stream"
        }
      ],
      "metadata":{
        
      }
    },
    {
      "cell_type":"code",
      "source":[
        "iris.describe"
      ],
      "execution_count":0,
      "outputs":[
        {
          "data":{
            "text\/plain":[
              "<bound method NDFrame.describe of      sepal_length  sepal_width  petal_length  petal_width         species\n",
              "0             5.1          3.5           1.4          0.2     Iris-setosa\n",
              "1             4.9          3.0           1.4          0.2     Iris-setosa\n",
              "2             4.7          3.2           1.3          0.2     Iris-setosa\n",
              "3             4.6          3.1           1.5          0.2     Iris-setosa\n",
              "4             5.0          3.6           1.4          0.2     Iris-setosa\n",
              "..            ...          ...           ...          ...             ...\n",
              "145           6.7          3.0           5.2          2.3  Iris-virginica\n",
              "146           6.3          2.5           5.0          1.9  Iris-virginica\n",
              "147           6.5          3.0           5.2          2.0  Iris-virginica\n",
              "148           6.2          3.4           5.4          2.3  Iris-virginica\n",
              "149           5.9          3.0           5.1          1.8  Iris-virginica\n",
              "\n",
              "[150 rows x 5 columns]>"
            ]
          },
          "metadata":{
            
          },
          "output_type":"display_data"
        }
      ],
      "metadata":{
        
      }
    },
    {
      "cell_type":"code",
      "source":[
        "petalLengthSeries = pd.Series(iris[\"petal_length\"])\n",
        "\n",
        "petalLengthSeries[petalLengthSeries>2]"
      ],
      "execution_count":0,
      "outputs":[
        {
          "data":{
            "text\/plain":[
              "50     4.7\n",
              "51     4.5\n",
              "52     4.9\n",
              "53     4.0\n",
              "54     4.6\n",
              "      ... \n",
              "145    5.2\n",
              "146    5.0\n",
              "147    5.2\n",
              "148    5.4\n",
              "149    5.1\n",
              "Name: petal_length, Length: 100, dtype: float64"
            ]
          },
          "metadata":{
            
          },
          "output_type":"display_data"
        }
      ],
      "metadata":{
        
      }
    },
    {
      "cell_type":"code",
      "source":[
        "petalLengthSeries.iloc[5]"
      ],
      "execution_count":0,
      "outputs":[
        {
          "data":{
            "text\/plain":[
              "1.7"
            ]
          },
          "metadata":{
            
          },
          "output_type":"display_data"
        }
      ],
      "metadata":{
        
      }
    },
    {
      "cell_type":"code",
      "source":[
        "petalLengthSeries.head(10)"
      ],
      "execution_count":0,
      "outputs":[
        {
          "data":{
            "text\/plain":[
              "0    1.4\n",
              "1    1.4\n",
              "2    1.3\n",
              "3    1.5\n",
              "4    1.4\n",
              "5    1.7\n",
              "6    1.4\n",
              "7    1.5\n",
              "8    1.4\n",
              "9    1.5\n",
              "Name: petal_length, dtype: float64"
            ]
          },
          "metadata":{
            
          },
          "output_type":"display_data"
        }
      ],
      "metadata":{
        
      }
    },
    {
      "cell_type":"code",
      "source":[
        "petalLengthSeries[-1::-1]"
      ],
      "execution_count":0,
      "outputs":[
        {
          "data":{
            "text\/plain":[
              "149    5.1\n",
              "148    5.4\n",
              "147    5.2\n",
              "146    5.0\n",
              "145    5.2\n",
              "      ... \n",
              "4      1.4\n",
              "3      1.5\n",
              "2      1.3\n",
              "1      1.4\n",
              "0      1.4\n",
              "Name: petal_length, Length: 150, dtype: float64"
            ]
          },
          "metadata":{
            
          },
          "output_type":"display_data"
        }
      ],
      "metadata":{
        
      }
    },
    {
      "cell_type":"code",
      "source":[
        "petalLengthSeries.astype(int)"
      ],
      "execution_count":0,
      "outputs":[
        {
          "data":{
            "text\/plain":[
              "0      1\n",
              "1      1\n",
              "2      1\n",
              "3      1\n",
              "4      1\n",
              "      ..\n",
              "145    5\n",
              "146    5\n",
              "147    5\n",
              "148    5\n",
              "149    5\n",
              "Name: petal_length, Length: 150, dtype: int64"
            ]
          },
          "metadata":{
            
          },
          "output_type":"display_data"
        }
      ],
      "metadata":{
        
      }
    },
    {
      "cell_type":"code",
      "source":[
        "petalLengthSeries"
      ],
      "execution_count":0,
      "outputs":[
        {
          "data":{
            "text\/plain":[
              "0      1.4\n",
              "1      1.4\n",
              "2      1.3\n",
              "3      1.5\n",
              "4      1.4\n",
              "      ... \n",
              "145    5.2\n",
              "146    5.0\n",
              "147    5.2\n",
              "148    5.4\n",
              "149    5.1\n",
              "Name: petal_length, Length: 150, dtype: float64"
            ]
          },
          "metadata":{
            
          },
          "output_type":"display_data"
        }
      ],
      "metadata":{
        
      }
    },
    {
      "cell_type":"code",
      "source":[
        "petalLengthSeries+10"
      ],
      "execution_count":0,
      "outputs":[
        {
          "data":{
            "text\/plain":[
              "0      11.4\n",
              "1      11.4\n",
              "2      11.3\n",
              "3      11.5\n",
              "4      11.4\n",
              "       ... \n",
              "145    15.2\n",
              "146    15.0\n",
              "147    15.2\n",
              "148    15.4\n",
              "149    15.1\n",
              "Name: petal_length, Length: 150, dtype: float64"
            ]
          },
          "metadata":{
            
          },
          "output_type":"display_data"
        }
      ],
      "metadata":{
        
      }
    },
    {
      "cell_type":"code",
      "source":[
        "petalLengthSeries"
      ],
      "execution_count":0,
      "outputs":[
        {
          "data":{
            "text\/plain":[
              "0      1.4\n",
              "1      1.4\n",
              "2      1.3\n",
              "3      1.5\n",
              "4      1.4\n",
              "      ... \n",
              "145    5.2\n",
              "146    5.0\n",
              "147    5.2\n",
              "148    5.4\n",
              "149    5.1\n",
              "Name: petal_length, Length: 150, dtype: float64"
            ]
          },
          "metadata":{
            
          },
          "output_type":"display_data"
        }
      ],
      "metadata":{
        
      }
    },
    {
      "cell_type":"code",
      "source":[
        "data = pd.Series([5, 2, 3,7], index=['a', 'b', 'c', 'd'])\n",
        "data1 = pd.Series([1, 6, 4, 9], index=['a', 'b', 'd', 'e'])\n",
        "pd.concat([data1,data],axis=1)"
      ],
      "execution_count":0,
      "outputs":[
        {
          "data":{
            "text\/html":[
              "<div>\n",
              "<style scoped>\n",
              "    .dataframe tbody tr th:only-of-type {\n",
              "        vertical-align: middle;\n",
              "    }\n",
              "\n",
              "    .dataframe tbody tr th {\n",
              "        vertical-align: top;\n",
              "    }\n",
              "\n",
              "    .dataframe thead th {\n",
              "        text-align: right;\n",
              "    }\n",
              "<\/style>\n",
              "<table border=\"1\" class=\"dataframe\">\n",
              "  <thead>\n",
              "    <tr style=\"text-align: right;\">\n",
              "      <th><\/th>\n",
              "      <th>0<\/th>\n",
              "      <th>1<\/th>\n",
              "    <\/tr>\n",
              "  <\/thead>\n",
              "  <tbody>\n",
              "    <tr>\n",
              "      <th>a<\/th>\n",
              "      <td>1.0<\/td>\n",
              "      <td>5.0<\/td>\n",
              "    <\/tr>\n",
              "    <tr>\n",
              "      <th>b<\/th>\n",
              "      <td>6.0<\/td>\n",
              "      <td>2.0<\/td>\n",
              "    <\/tr>\n",
              "    <tr>\n",
              "      <th>d<\/th>\n",
              "      <td>4.0<\/td>\n",
              "      <td>7.0<\/td>\n",
              "    <\/tr>\n",
              "    <tr>\n",
              "      <th>e<\/th>\n",
              "      <td>9.0<\/td>\n",
              "      <td>NaN<\/td>\n",
              "    <\/tr>\n",
              "    <tr>\n",
              "      <th>c<\/th>\n",
              "      <td>NaN<\/td>\n",
              "      <td>3.0<\/td>\n",
              "    <\/tr>\n",
              "  <\/tbody>\n",
              "<\/table>\n",
              "<\/div>"
            ]
          },
          "metadata":{
            
          },
          "output_type":"display_data"
        }
      ],
      "metadata":{
        
      }
    },
    {
      "cell_type":"code",
      "source":[
        "pd.concat([data1,data],axis=0)"
      ],
      "execution_count":0,
      "outputs":[
        {
          "data":{
            "text\/plain":[
              "a    1\n",
              "b    6\n",
              "d    4\n",
              "e    9\n",
              "a    5\n",
              "b    2\n",
              "c    3\n",
              "d    7\n",
              "dtype: int64"
            ]
          },
          "metadata":{
            
          },
          "output_type":"display_data"
        }
      ],
      "metadata":{
        
      }
    }
  ],
  "metadata":{
    
  },
  "nbformat":4,
  "nbformat_minor":0
}